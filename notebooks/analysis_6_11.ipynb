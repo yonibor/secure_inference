{
 "cells": [
  {
   "cell_type": "code",
   "execution_count": 9,
   "metadata": {},
   "outputs": [],
   "source": [
    "import pandas as pd\n",
    "import matplotlib.pyplot as plt"
   ]
  },
  {
   "cell_type": "code",
   "execution_count": 2,
   "metadata": {},
   "outputs": [],
   "source": [
    "logs = pd.read_csv('/workspaces/secure_inference/tests/4_11_combined/full3/per_channel.csv')"
   ]
  },
  {
   "cell_type": "code",
   "execution_count": 25,
   "metadata": {},
   "outputs": [],
   "source": [
    "logs['affinity_ratio'] = logs['same_label_affinity'] / logs['diff_label_affinity']\n",
    "last_batch_clustering = logs.query('batch_index == 412 & (~all_zero)')"
   ]
  },
  {
   "cell_type": "code",
   "execution_count": null,
   "metadata": {},
   "outputs": [
    {
     "data": {
      "image/png": "[encoded data removed]",
      "text/plain": [
       "<Figure size 432x288 with 1 Axes>"
      ]
     },
     "metadata": {
      "needs_background": "light"
     },
     "output_type": "display_data"
    },
    {
     "name": "stdout",
     "output_type": "stream",
     "text": [
      "drelu channels above 0.8\n",
      "False    3194\n",
      "True       73\n",
      "Name: drelu_mean, dtype: int64\n",
      "across layers\n",
      "layer4_1_2    512\n",
      "layer4_0_2    512\n",
      "layer4_0_1    443\n",
      "layer4_1_1    402\n",
      "layer3_1_2    255\n",
      "layer3_0_2    248\n",
      "layer3_0_1    220\n",
      "layer2_1_2    128\n",
      "layer2_0_1    124\n",
      "layer2_0_2    106\n",
      "layer2_1_1     67\n",
      "layer3_1_1     65\n",
      "layer1_1_2     61\n",
      "layer1_0_2     53\n",
      "layer1_0_1     29\n",
      "layer1_1_1     23\n",
      "stem           19\n",
      "Name: layer_name, dtype: int64\n"
     ]
    }
   ],
   "source": [
    "plt.hist(logs.query('batch_index == 412 & (~all_zero)')['drelu_mean'], bins=100)\n",
    "plt.show()\n",
    "print('drelu channels above 0.8')\n",
    "print((last_batch_clustering['drelu_mean'] > 0.8).value_counts())\n",
    "print('across layers')\n",
    "print(last_batch_clustering['layer_name'].value_counts())"
   ]
  },
  {
   "cell_type": "code",
   "execution_count": 36,
   "metadata": {},
   "outputs": [
    {
     "name": "stdout",
     "output_type": "stream",
     "text": [
      "mean affinity ratio 0.5409378004860746\n"
     ]
    },
    {
     "data": {
      "image/png": "[encoded data removed]",
      "text/plain": [
       "<Figure size 432x288 with 1 Axes>"
      ]
     },
     "metadata": {
      "needs_background": "light"
     },
     "output_type": "display_data"
    },
    {
     "name": "stdout",
     "output_type": "stream",
     "text": [
      "affinity ratio per layer\n",
      "                 min       max      mean\n",
      "layer_name                              \n",
      "layer1_0_1  0.161775  0.888969  0.458601\n",
      "layer1_0_2  0.123918  1.067146  0.655391\n",
      "layer1_1_1  0.138589  0.904348  0.484519\n",
      "layer1_1_2 -0.000000  1.526567  0.805259\n",
      "layer2_0_1  0.458839  1.004720  0.774213\n",
      "layer2_0_2  0.382392  0.962256  0.568170\n",
      "layer2_1_1  0.242764  0.912374  0.570833\n",
      "layer2_1_2  0.359067  1.225015  0.625468\n",
      "layer3_0_1  0.436098  0.992208  0.739988\n",
      "layer3_0_2  0.309107  0.912655  0.646550\n",
      "layer3_1_1  0.268896  0.938102  0.616835\n",
      "layer3_1_2  0.267478  1.013938  0.647565\n",
      "layer4_0_1  0.169318  0.976468  0.577040\n",
      "layer4_0_2  0.006341  0.805827  0.468302\n",
      "layer4_1_1  0.138005  0.783791  0.289910\n",
      "layer4_1_2  0.313984  0.645072  0.464861\n",
      "stem        0.262184  0.680722  0.358846\n",
      "mean across batches\n",
      "batch_index\n",
      "52     0.517084\n",
      "92     0.518929\n",
      "132    0.526110\n",
      "172    0.526786\n",
      "212    0.510543\n",
      "252    0.525387\n",
      "292    0.525402\n",
      "332    0.529210\n",
      "372    0.533819\n",
      "412    0.537060\n",
      "Name: affinity_ratio, dtype: float64\n"
     ]
    }
   ],
   "source": [
    "print(f'mean affinity ratio {last_batch_clustering[\"affinity_ratio\"].mean()}')\n",
    "plt.hist(last_batch_clustering['affinity_ratio'], bins=100)\n",
    "plt.show()\n",
    "print('affinity ratio per layer')\n",
    "print(last_batch_clustering.groupby('layer_name')['affinity_ratio'].agg(['min', 'max', 'mean']))\n",
    "print('mean across batches')\n",
    "print(logs.query('(~failed_to_converge) & (~all_zero)').groupby('batch_index')['affinity_ratio'].mean())"
   ]
  },
  {
   "cell_type": "code",
   "execution_count": 49,
   "metadata": {},
   "outputs": [
    {
     "data": {
      "text/html": [
       "<div>\n",
       "<style scoped>\n",
       "    .dataframe tbody tr th:only-of-type {\n",
       "        vertical-align: middle;\n",
       "    }\n",
       "\n",
       "    .dataframe tbody tr th {\n",
       "        vertical-align: top;\n",
       "    }\n",
       "\n",
       "    .dataframe thead th {\n",
       "        text-align: right;\n",
       "    }\n",
       "</style>\n",
       "<table border=\"1\" class=\"dataframe\">\n",
       "  <thead>\n",
       "    <tr style=\"text-align: right;\">\n",
       "      <th></th>\n",
       "      <th>affinity_ratio</th>\n",
       "      <th>drelu_mean</th>\n",
       "      <th>cluster_amount</th>\n",
       "    </tr>\n",
       "  </thead>\n",
       "  <tbody>\n",
       "    <tr>\n",
       "      <th>35409</th>\n",
       "      <td>1.526567</td>\n",
       "      <td>0.997661</td>\n",
       "      <td>253.0</td>\n",
       "    </tr>\n",
       "    <tr>\n",
       "      <th>35419</th>\n",
       "      <td>1.225059</td>\n",
       "      <td>0.183551</td>\n",
       "      <td>80.0</td>\n",
       "    </tr>\n",
       "    <tr>\n",
       "      <th>35452</th>\n",
       "      <td>1.190446</td>\n",
       "      <td>0.905923</td>\n",
       "      <td>148.0</td>\n",
       "    </tr>\n",
       "    <tr>\n",
       "      <th>35407</th>\n",
       "      <td>1.070125</td>\n",
       "      <td>0.198274</td>\n",
       "      <td>32.0</td>\n",
       "    </tr>\n",
       "    <tr>\n",
       "      <th>35394</th>\n",
       "      <td>1.067716</td>\n",
       "      <td>0.256160</td>\n",
       "      <td>58.0</td>\n",
       "    </tr>\n",
       "    <tr>\n",
       "      <th>...</th>\n",
       "      <td>...</td>\n",
       "      <td>...</td>\n",
       "      <td>...</td>\n",
       "    </tr>\n",
       "    <tr>\n",
       "      <th>35413</th>\n",
       "      <td>0.380952</td>\n",
       "      <td>0.849991</td>\n",
       "      <td>252.0</td>\n",
       "    </tr>\n",
       "    <tr>\n",
       "      <th>35404</th>\n",
       "      <td>-0.000000</td>\n",
       "      <td>0.999990</td>\n",
       "      <td>1024.0</td>\n",
       "    </tr>\n",
       "    <tr>\n",
       "      <th>35431</th>\n",
       "      <td>NaN</td>\n",
       "      <td>0.936755</td>\n",
       "      <td>1024.0</td>\n",
       "    </tr>\n",
       "    <tr>\n",
       "      <th>35437</th>\n",
       "      <td>NaN</td>\n",
       "      <td>1.000000</td>\n",
       "      <td>1024.0</td>\n",
       "    </tr>\n",
       "    <tr>\n",
       "      <th>35448</th>\n",
       "      <td>NaN</td>\n",
       "      <td>0.993989</td>\n",
       "      <td>1024.0</td>\n",
       "    </tr>\n",
       "  </tbody>\n",
       "</table>\n",
       "<p>61 rows × 3 columns</p>\n",
       "</div>"
      ],
      "text/plain": [
       "       affinity_ratio  drelu_mean  cluster_amount\n",
       "35409        1.526567    0.997661           253.0\n",
       "35419        1.225059    0.183551            80.0\n",
       "35452        1.190446    0.905923           148.0\n",
       "35407        1.070125    0.198274            32.0\n",
       "35394        1.067716    0.256160            58.0\n",
       "...               ...         ...             ...\n",
       "35413        0.380952    0.849991           252.0\n",
       "35404       -0.000000    0.999990          1024.0\n",
       "35431             NaN    0.936755          1024.0\n",
       "35437             NaN    1.000000          1024.0\n",
       "35448             NaN    0.993989          1024.0\n",
       "\n",
       "[61 rows x 3 columns]"
      ]
     },
     "execution_count": 49,
     "metadata": {},
     "output_type": "execute_result"
    }
   ],
   "source": [
    "last_batch_clustering.query('layer_name == \"layer1_1_2\"').sort_values('affinity_ratio', ascending=False)[\n",
    "    ['affinity_ratio', 'drelu_mean', 'cluster_amount']\n",
    "    ]"
   ]
  }
 ],
 "metadata": {
  "kernelspec": {
   "display_name": "base",
   "language": "python",
   "name": "python3"
  },
  "language_info": {
   "codemirror_mode": {
    "name": "ipython",
    "version": 3
   },
   "file_extension": ".py",
   "mimetype": "text/x-python",
   "name": "python",
   "nbconvert_exporter": "python",
   "pygments_lexer": "ipython3",
   "version": "3.8.12"
  }
 },
 "nbformat": 4,
 "nbformat_minor": 2
}
