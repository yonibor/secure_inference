{
 "cells": [
  {
   "cell_type": "code",
   "execution_count": 1,
   "metadata": {},
   "outputs": [],
   "source": [
    "import numpy as np\n",
    "import matplotlib.pyplot as plt"
   ]
  },
  {
   "cell_type": "code",
   "execution_count": 2,
   "metadata": {},
   "outputs": [],
   "source": [
    "import sys\n",
    "sys.path.append('/workspaces/secure_inference/')\n",
    "from research.distortion.parameters.classification.resent.resnet18_8xb16_cifar100 import Params as resnet18_8xb16_cifar100_Params"
   ]
  },
  {
   "cell_type": "code",
   "execution_count": 3,
   "metadata": {},
   "outputs": [],
   "source": [
    "layer_names = resnet18_8xb16_cifar100_Params().LAYER_NAMES\n",
    "stats = {l: np.load(f'/workspaces/secure_inference/tests/12_11_multi_channel/all_stats/{l}.npy') for l in layer_names}"
   ]
  },
  {
   "cell_type": "code",
   "execution_count": 46,
   "metadata": {},
   "outputs": [
    {
     "data": {
      "text/plain": [
       "True"
      ]
     },
     "execution_count": 46,
     "metadata": {},
     "output_type": "execute_result"
    }
   ],
   "source": [
    "'layer3_1_2' in layer_names"
   ]
  },
  {
   "cell_type": "code",
   "execution_count": 52,
   "metadata": {},
   "outputs": [
    {
     "name": "stdout",
     "output_type": "stream",
     "text": [
      "557056\n",
      "73728\n",
      "57344\n"
     ]
    }
   ],
   "source": [
    "print(sum([a[0].size for a in stats.values()]))\n",
    "print(sum([v[0].size for k, v in stats.items() if k in [\"layer2_0_1\", \"layer3_0_1\", \"layer4_0_1\", \"layer3_1_2\"]]))\n",
    "print(sum([v[0].size for k, v in stats.items() if k in [\"layer2_0_1\", \"layer3_0_1\", \"layer4_0_1\"]]))"
   ]
  },
  {
   "cell_type": "code",
   "execution_count": 4,
   "metadata": {},
   "outputs": [
    {
     "name": "stdout",
     "output_type": "stream",
     "text": [
      "(443, 443, 16)\n"
     ]
    },
    {
     "data": {
      "text/plain": [
       "(443, 443, 4, 4)"
      ]
     },
     "execution_count": 4,
     "metadata": {},
     "output_type": "execute_result"
    }
   ],
   "source": [
    "cur_layer = stats['layer4_0_1']\n",
    "not_zero = cur_layer.any(axis=(0, 2, 3)).nonzero()\n",
    "cur_layer = cur_layer[:, not_zero[0]]\n",
    "\n",
    "shape = cur_layer.shape\n",
    "flat = cur_layer.reshape(shape[0], shape[1], -1)\n",
    "hamming_distances = np.sum(flat[:, None] != flat[:, :, None], axis=0) / shape[0]  # Shape (d2, d2, d3 * d4)\n",
    "print(hamming_distances.shape)\n",
    "hamming_distances = hamming_distances.reshape(shape[1], shape[1], shape[2], shape[3])\n",
    "hamming_distances.shape"
   ]
  },
  {
   "cell_type": "code",
   "execution_count": 78,
   "metadata": {},
   "outputs": [],
   "source": [
    "from sklearn.cluster import AffinityPropagation, AgglomerativeClustering, KMeans"
   ]
  },
  {
   "cell_type": "code",
   "execution_count": 49,
   "metadata": {},
   "outputs": [],
   "source": [
    "channel_distances = np.quantile(hamming_distances, 0.3, axis=(2, 3))\n",
    "plt.hist(channel_distances, bins=100)\n",
    "plt.show()"
   ]
  },
  {
   "cell_type": "code",
   "execution_count": 77,
   "metadata": {},
   "outputs": [
    {
     "data": {
      "text/plain": [
       "array([[0., 0., 0., ..., 1., 1., 0.],\n",
       "       [0., 0., 0., ..., 0., 0., 0.],\n",
       "       [1., 1., 0., ..., 0., 0., 0.],\n",
       "       ...,\n",
       "       [0., 0., 0., ..., 1., 0., 1.],\n",
       "       [0., 0., 1., ..., 0., 0., 1.],\n",
       "       [0., 0., 1., ..., 0., 0., 0.]], dtype=float32)"
      ]
     },
     "execution_count": 77,
     "metadata": {},
     "output_type": "execute_result"
    }
   ],
   "source": [
    "data = cur_layer.transpose(1, 0, 2, 3)\n",
    "data = data.reshape(data.shape[0], -1).astype(np.float32)\n",
    "data"
   ]
  },
  {
   "cell_type": "code",
   "execution_count": 79,
   "metadata": {},
   "outputs": [],
   "source": [
    "clusters3 = KMeans(n_clusters=40).fit(data)"
   ]
  },
  {
   "cell_type": "code",
   "execution_count": 82,
   "metadata": {},
   "outputs": [
    {
     "data": {
      "text/plain": [
       "(array([ 0,  1,  2,  3,  4,  5,  6,  7,  8,  9, 10, 11, 12, 13, 14, 15, 16,\n",
       "        17, 18, 19, 20, 21, 22, 23, 24, 25, 26, 27, 28, 29, 30, 31, 32, 33,\n",
       "        34, 35, 36, 37, 38, 39], dtype=int32),\n",
       " array([ 2,  7,  4,  5,  4,  9,  2, 25, 23, 38,  3,  9,  3,  9,  2,  7,  9,\n",
       "         1, 26, 21, 11,  1, 47,  1, 22,  1,  2,  1,  1,  1,  1, 51,  3,  1,\n",
       "         1, 78,  2,  1,  4,  4]))"
      ]
     },
     "execution_count": 82,
     "metadata": {},
     "output_type": "execute_result"
    }
   ],
   "source": [
    "np.unique(clusters3.labels_, return_counts=True)"
   ]
  },
  {
   "cell_type": "code",
   "execution_count": 54,
   "metadata": {},
   "outputs": [],
   "source": [
    "# channels_distance = hamming_distances.mean(axis=(2, 3))\n",
    "clusters = AffinityPropagation(affinity='precomputed').fit(-channel_distances)"
   ]
  },
  {
   "cell_type": "code",
   "execution_count": 68,
   "metadata": {},
   "outputs": [],
   "source": [
    "clusters2 = AgglomerativeClustering(n_clusters=40, affinity='precomputed', linkage='complete').fit_predict(-channel_distances)"
   ]
  },
  {
   "cell_type": "code",
   "execution_count": 83,
   "metadata": {},
   "outputs": [
    {
     "data": {
      "text/plain": [
       "(array([ 0,  1,  2,  3,  4,  5,  6,  7,  8,  9, 10, 11, 12, 13, 14, 15, 16,\n",
       "        17, 18, 19, 20, 21, 22, 23, 24, 25, 26, 27, 28, 29, 30, 31, 32, 33,\n",
       "        34, 35, 36, 37, 38, 39], dtype=int32),\n",
       " array([ 2,  7,  4,  5,  4,  9,  2, 25, 23, 38,  3,  9,  3,  9,  2,  7,  9,\n",
       "         1, 26, 21, 11,  1, 47,  1, 22,  1,  2,  1,  1,  1,  1, 51,  3,  1,\n",
       "         1, 78,  2,  1,  4,  4]))"
      ]
     },
     "execution_count": 83,
     "metadata": {},
     "output_type": "execute_result"
    }
   ],
   "source": [
    "np.unique(clusters3.labels_, return_counts=True)"
   ]
  },
  {
   "cell_type": "code",
   "execution_count": 120,
   "metadata": {},
   "outputs": [
    {
     "name": "stdout",
     "output_type": "stream",
     "text": [
      "(38,)\n",
      "(38, 38)\n",
      "0.1983240185682133\n"
     ]
    },
    {
     "data": {
      "image/png": "[encoded data removed]",
      "text/plain": [
       "<Figure size 432x288 with 1 Axes>"
      ]
     },
     "metadata": {
      "needs_background": "light"
     },
     "output_type": "display_data"
    }
   ],
   "source": [
    "cur_label = np.nonzero(clusters3.labels_ == 9)[0]\n",
    "print(cur_label.shape)\n",
    "print(channel_distances[np.ix_(cur_label, cur_label)].shape)\n",
    "print(channel_distances[np.ix_(cur_label, cur_label)].mean())\n",
    "plt.hist(channel_distances[np.ix_(cur_label, cur_label)], bins=100)\n",
    "plt.show()\n"
   ]
  },
  {
   "cell_type": "code",
   "execution_count": 137,
   "metadata": {},
   "outputs": [],
   "source": [
    "from sklearn.metrics import pairwise_distances\n",
    "samples = cur_layer[:, cur_label].transpose(1, 2, 3, 0)\n",
    "samples_original_shape = samples.shape\n",
    "# samples = cur_layer.transpose(1, 2, 3, 0)\n",
    "samples = samples.reshape(-1, samples.shape[-1])\n",
    "affinity_mat = -pairwise_distances(samples, metric='hamming')"
   ]
  },
  {
   "cell_type": "code",
   "execution_count": 178,
   "metadata": {},
   "outputs": [
    {
     "data": {
      "text/plain": [
       "-0.21878884992493902"
      ]
     },
     "execution_count": 178,
     "metadata": {},
     "output_type": "execute_result"
    }
   ],
   "source": [
    "i = np.nonzero(pixel_clusters.labels_ == 55)[0]\n",
    "affinity_mat[np.ix_(i, i)].mean()"
   ]
  },
  {
   "cell_type": "code",
   "execution_count": 176,
   "metadata": {},
   "outputs": [
    {
     "data": {
      "text/plain": [
       "0.76"
      ]
     },
     "execution_count": 176,
     "metadata": {},
     "output_type": "execute_result"
    }
   ],
   "source": [
    "19 / 25"
   ]
  },
  {
   "cell_type": "code",
   "execution_count": 138,
   "metadata": {},
   "outputs": [],
   "source": [
    "pixel_clusters = AffinityPropagation(affinity='precomputed', preference=np.quantile(affinity_mat, 0.7)).fit(affinity_mat)"
   ]
  },
  {
   "cell_type": "code",
   "execution_count": 168,
   "metadata": {},
   "outputs": [
    {
     "data": {
      "text/plain": [
       "(array([  0,   1,   2,   3,   4,   5,   6,   7,   8,   9,  10,  11,  12,\n",
       "         13,  14,  15,  16,  17,  18,  19,  20,  21,  22,  23,  24,  25,\n",
       "         26,  27,  28,  29,  30,  31,  32,  33,  34,  35,  36,  37,  38,\n",
       "         39,  40,  41,  42,  43,  44,  45,  46,  47,  48,  49,  50,  51,\n",
       "         52,  53,  54,  55,  56,  57,  58,  59,  60,  61,  62,  63,  64,\n",
       "         65,  66,  67,  68,  69,  70,  71,  72,  73,  74,  75,  76,  77,\n",
       "         78,  79,  80,  81,  82,  83,  84,  85,  86,  87,  88,  89,  90,\n",
       "         91,  92,  93,  94,  95,  96,  97,  98,  99, 100, 101, 102, 103,\n",
       "        104, 105, 106, 107, 108, 109, 110, 111, 112, 113, 114, 115, 116,\n",
       "        117, 118, 119, 120]),\n",
       " array([  1,   1,   1,   1, 237,   1,   1, 164,   1,   1,   1,   1,   1,\n",
       "          1,   1,   1,   1,   1,   1,   2,   1,   1,   1,   1,   1,   1,\n",
       "          1,   1,   3,   1,   1,   1,   1,   1,   1,   1,   1,   1,   1,\n",
       "          1,   1,   1,   1,   1,   1,   2,   1,   1,   1,   1,   1,   4,\n",
       "          1,   1,   1,  73,   1,   1,   1,   1,   2,   1,   1,   1,   1,\n",
       "          1,   1,   1,   1,   1,   1,   1,   1,   1,   1,   1,   1,   1,\n",
       "          1,   1,   1,   1,   1,   1,   1,   1,   3,   1,   1,   1,   1,\n",
       "          1,   1,   1,   1,   1,   1,   1,   1,   1,   1,   1,   1,   3,\n",
       "          1,   3,   1,   1,   1,   1,   3,   1,   1,   1,   1,   1,   1,\n",
       "          1,   1,   1,   1]))"
      ]
     },
     "execution_count": 168,
     "metadata": {},
     "output_type": "execute_result"
    }
   ],
   "source": [
    "np.unique(pixel_clusters.labels_, return_counts=True)"
   ]
  },
  {
   "cell_type": "code",
   "execution_count": 170,
   "metadata": {},
   "outputs": [
    {
     "data": {
      "image/png": "[encoded data removed]",
      "text/plain": [
       "<Figure size 432x288 with 2 Axes>"
      ]
     },
     "metadata": {
      "needs_background": "light"
     },
     "output_type": "display_data"
    },
    {
     "data": {
      "image/png": "[encoded data removed]",
      "text/plain": [
       "<Figure size 432x288 with 2 Axes>"
      ]
     },
     "metadata": {
      "needs_background": "light"
     },
     "output_type": "display_data"
    },
    {
     "data": {
      "image/png": "[encoded data removed]",
      "text/plain": [
       "<Figure size 432x288 with 2 Axes>"
      ]
     },
     "metadata": {
      "needs_background": "light"
     },
     "output_type": "display_data"
    },
    {
     "data": {
      "image/png": "[encoded data removed]",
      "text/plain": [
       "<Figure size 432x288 with 1 Axes>"
      ]
     },
     "metadata": {
      "needs_background": "light"
     },
     "output_type": "display_data"
    }
   ],
   "source": [
    "\n",
    "example1 = pixel_clusters.labels_.reshape(samples_original_shape[:-1]) == 7\n",
    "example2 = pixel_clusters.labels_.reshape(samples_original_shape[:-1]) == 4\n",
    "example3 = pixel_clusters.labels_.reshape(samples_original_shape[:-1]) == 55\n",
    "plt.imshow(example1.mean(axis=0), origin='lower')\n",
    "plt.colorbar()\n",
    "plt.show()\n",
    "plt.imshow(example2.mean(axis=0), origin='lower')\n",
    "plt.colorbar()\n",
    "plt.show()\n",
    "plt.imshow(example3.mean(axis=0), origin='lower')\n",
    "plt.colorbar()\n",
    "plt.show()\n",
    "plt.scatter(np.arange(example1.shape[0]), example1.mean(axis=(1, 2)), label=1)\n",
    "plt.scatter(np.arange(example2.shape[0]), example2.mean(axis=(1, 2)), label=2)\n",
    "plt.scatter(np.arange(example3.shape[0]), example3.mean(axis=(1, 2)), label=3)\n",
    "plt.show()\n"
   ]
  },
  {
   "cell_type": "code",
   "execution_count": 167,
   "metadata": {},
   "outputs": [
    {
     "name": "stdout",
     "output_type": "stream",
     "text": [
      "0.11113162157012195\n",
      "0.12272135416666667\n",
      "0.14926308079769737\n",
      "0.15491011987690462\n"
     ]
    }
   ],
   "source": [
    "print(samples[np.nonzero(pixel_clusters.labels_ == 7)].mean())\n",
    "print(samples[np.nonzero(pixel_clusters.labels_ == 4)].mean())\n",
    "print(samples.mean())\n",
    "print(cur_layer.mean())"
   ]
  },
  {
   "cell_type": "code",
   "execution_count": null,
   "metadata": {},
   "outputs": [
    {
     "data": {
      "text/plain": [
       "array([0.25  , 0.3125, 0.25  , 0.125 , 0.1875, 0.6875, 0.1875, 0.125 ,\n",
       "       0.125 , 0.125 , 0.0625, 0.3125, 0.5625, 0.1875, 0.375 , 0.4375,\n",
       "       0.125 , 0.25  , 0.3125, 0.1875, 0.25  , 0.3125, 0.1875, 0.375 ,\n",
       "       0.25  , 0.1875, 0.125 , 0.25  , 0.125 , 0.5   , 0.125 , 0.625 ,\n",
       "       0.4375, 0.125 , 0.25  , 0.4375, 0.3125, 0.1875])"
      ]
     },
     "execution_count": 150,
     "metadata": {},
     "output_type": "execute_result"
    }
   ],
   "source": []
  },
  {
   "cell_type": "code",
   "execution_count": 139,
   "metadata": {},
   "outputs": [
    {
     "data": {
      "text/plain": [
       "(array([  0,   1,   2,   3,   4,   5,   6,   7,   8,   9,  10,  11,  12,\n",
       "         13,  14,  15,  16,  17,  18,  19,  20,  21,  22,  23,  24,  25,\n",
       "         26,  27,  28,  29,  30,  31,  32,  33,  34,  35,  36,  37,  38,\n",
       "         39,  40,  41,  42,  43,  44,  45,  46,  47,  48,  49,  50,  51,\n",
       "         52,  53,  54,  55,  56,  57,  58,  59,  60,  61,  62,  63,  64,\n",
       "         65,  66,  67,  68,  69,  70,  71,  72,  73,  74,  75,  76,  77,\n",
       "         78,  79,  80,  81,  82,  83,  84,  85,  86,  87,  88,  89,  90,\n",
       "         91,  92,  93,  94,  95,  96,  97,  98,  99, 100, 101, 102, 103,\n",
       "        104, 105, 106, 107, 108, 109, 110, 111, 112, 113, 114, 115, 116,\n",
       "        117, 118, 119, 120]),\n",
       " array([  1,   1,   1,   1, 237,   1,   1, 164,   1,   1,   1,   1,   1,\n",
       "          1,   1,   1,   1,   1,   1,   2,   1,   1,   1,   1,   1,   1,\n",
       "          1,   1,   3,   1,   1,   1,   1,   1,   1,   1,   1,   1,   1,\n",
       "          1,   1,   1,   1,   1,   1,   2,   1,   1,   1,   1,   1,   4,\n",
       "          1,   1,   1,  73,   1,   1,   1,   1,   2,   1,   1,   1,   1,\n",
       "          1,   1,   1,   1,   1,   1,   1,   1,   1,   1,   1,   1,   1,\n",
       "          1,   1,   1,   1,   1,   1,   1,   1,   3,   1,   1,   1,   1,\n",
       "          1,   1,   1,   1,   1,   1,   1,   1,   1,   1,   1,   1,   3,\n",
       "          1,   3,   1,   1,   1,   1,   3,   1,   1,   1,   1,   1,   1,\n",
       "          1,   1,   1,   1]))"
      ]
     },
     "execution_count": 139,
     "metadata": {},
     "output_type": "execute_result"
    }
   ],
   "source": [
    "np.unique(pixel_clusters.labels_, return_counts=True)"
   ]
  },
  {
   "cell_type": "code",
   "execution_count": 29,
   "metadata": {},
   "outputs": [
    {
     "data": {
      "image/png": "[encoded data removed]",
      "text/plain": [
       "<Figure size 432x288 with 1 Axes>"
      ]
     },
     "metadata": {
      "needs_background": "light"
     },
     "output_type": "display_data"
    }
   ],
   "source": [
    "a = hamming_distances.mean(axis=(2, 3))\n",
    "plt.hist(hamming_distances.mean(axis=(2, 3)), bins=100)\n",
    "plt.show()"
   ]
  },
  {
   "cell_type": "code",
   "execution_count": 6,
   "metadata": {},
   "outputs": [
    {
     "data": {
      "text/plain": [
       "(10, 5, 5, 2, 2)"
      ]
     },
     "execution_count": 6,
     "metadata": {},
     "output_type": "execute_result"
    }
   ],
   "source": [
    "a = np.zeros([10, 5, 2, 2])\n",
    "b = np.zeros([10, 5, 2, 2])\n",
    "c = a[:, None] != b[:, :, None]\n",
    "c.shape"
   ]
  }
 ],
 "metadata": {
  "kernelspec": {
   "display_name": "base",
   "language": "python",
   "name": "python3"
  },
  "language_info": {
   "codemirror_mode": {
    "name": "ipython",
    "version": 3
   },
   "file_extension": ".py",
   "mimetype": "text/x-python",
   "name": "python",
   "nbconvert_exporter": "python",
   "pygments_lexer": "ipython3",
   "version": "3.8.12"
  }
 },
 "nbformat": 4,
 "nbformat_minor": 2
}
