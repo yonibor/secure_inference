{
 "cells": [
  {
   "cell_type": "code",
   "execution_count": 1,
   "metadata": {},
   "outputs": [],
   "source": [
    "import sys\n",
    "sys.path.append('/workspaces/secure_inference/')\n",
    "\n",
    "import pandas as pd\n",
    "import numpy as np\n",
    "import matplotlib.pyplot as plt\n",
    "import wandb\n",
    "\n",
    "from research.distortion.parameters.classification.resent.resnet18_8xb16_cifar100 import Params as resnet18_8xb16_cifar100_Params"
   ]
  },
  {
   "cell_type": "code",
   "execution_count": 15,
   "metadata": {},
   "outputs": [],
   "source": [
    "run_ids = {\n",
    "    \"layer4_1_2_best_features_False\": \"bazo8rfa\",\n",
    "    \"layer4_1_2_best_features_True\": \"bfc5rag7\",\n",
    "    \"layer4_1_1_best_features_False\": \"g9wu3f0l\",\n",
    "    \"layer4_1_1_best_features_True\": \"wgeeta8n\",\n",
    "    \"layer4_0_2_best_features_False\": \"48mec68i\",\n",
    "    \"layer4_0_2_best_features_True\": \"6itprzbc\",\n",
    "    \"layer4_0_1_best_features_False\": \"npbnf6gj\",\n",
    "    \"layer4_0_1_best_features_True\": \"b3omk9uc\",\n",
    "    \"layer3_1_2_best_features_False\": \"n8y3felm\",\n",
    "    \"layer3_1_2_best_features_True\": \"0itdd8c7\",\n",
    "    \"layer3_1_1_best_features_False\": \"q9q3e3sc\",\n",
    "    \"layer3_1_1_best_features_True\": \"7xrw3awj\",\n",
    "    \"layer3_0_2_best_features_False\": \"vmlm2ke0\",\n",
    "    \"layer3_0_2_best_features_True\": \"elk4tjuo\",\n",
    "    \"layer3_0_1_best_features_False\": \"7hdg5s9c\",\n",
    "    \"layer3_0_1_best_features_True\": \"6ipsgqgy\",\n",
    "    \"layer2_1_2_best_features_False\": \"ofdijq57\",\n",
    "    \"layer2_1_2_best_features_True\": \"36sxfmh8\",\n",
    "    \"layer2_1_1_best_features_False\": \"sebziinp\",\n",
    "    \"layer1_1_2_best_features_True\": \"w4g2zuh8\",\n",
    "    \"layer1_1_1_best_features_False\": \"s5cafyfn\",\n",
    "    \"layer1_1_1_best_features_True\": \"d0fv0atd\",\n",
    "    \"layer1_0_2_best_features_False\": \"uzb7l0q6\",\n",
    "    \"layer1_0_2_best_features_True\": \"37bp0ys9\",\n",
    "    \"layer1_0_1_best_features_False\": \"xowe5s6r\",\n",
    "    \"layer1_0_1_best_features_True\": \"65vor0e3\",\n",
    "    \"stem_best_features_False\": \"r51njdxv\",\n",
    "    \"stem_best_features_True\": \"wrcpu584\",\n",
    "    \"layer2_0_2_best_features_False\": \"0d7udjig\",\n",
    "    \"layer2_0_2_best_features_True\": \"570osv9r\",\n",
    "    \"layer2_0_1_best_features_False\": \"34iwzv0b\",\n",
    "    \"layer2_0_1_best_features_True\": \"d72hx7ez\",\n",
    "    \"layer1_1_2_best_features_False\": \"twx66r0i\",\n",
    "    \"layer2_1_1_best_features_True\": \"rc0a4o99\",\n",
    "}"
   ]
  },
  {
   "cell_type": "code",
   "execution_count": null,
   "metadata": {},
   "outputs": [
    {
     "name": "stderr",
     "output_type": "stream",
     "text": [
      "Failed to detect the name of this notebook, you can set it manually with the WANDB_NOTEBOOK_NAME environment variable to enable code saving.\n",
      "\u001b[34m\u001b[1mwandb\u001b[0m: Logging into wandb.ai. (Learn how to deploy a W&B server locally: https://wandb.me/wandb-server)\n",
      "\u001b[34m\u001b[1mwandb\u001b[0m: You can find your API key in your browser here: https://wandb.ai/authorize\n",
      "\u001b[34m\u001b[1mwandb\u001b[0m: Paste an API key from your profile and hit enter, or press ctrl+c to quit:\u001b[34m\u001b[1mwandb\u001b[0m: Appending key for api.wandb.ai to your netrc file: /root/.netrc\n"
     ]
    }
   ],
   "source": []
  },
  {
   "cell_type": "code",
   "execution_count": 7,
   "metadata": {},
   "outputs": [],
   "source": [
    "run = api.run(\"yoni-bornfeld/private_inference/xowe5s6r\")"
   ]
  },
  {
   "cell_type": "code",
   "execution_count": 8,
   "metadata": {},
   "outputs": [
    {
     "data": {
      "text/plain": [
       "array([        nan, 77.50999451, 77.25      , 77.40999603, 77.40000153,\n",
       "       77.41999817, 77.43999481, 77.37999725, 77.38999939])"
      ]
     },
     "execution_count": 8,
     "metadata": {},
     "output_type": "execute_result"
    }
   ],
   "source": [
    "history = run.history()\n",
    "history[\"val/accuracy_top-1\"].unique()"
   ]
  },
  {
   "cell_type": "code",
   "execution_count": null,
   "metadata": {},
   "outputs": [],
   "source": [
    "api = wandb.Api()"
   ]
  },
  {
   "cell_type": "code",
   "execution_count": 32,
   "metadata": {},
   "outputs": [
    {
     "name": "stdout",
     "output_type": "stream",
     "text": [
      "stem\n",
      "layer1_0_1\n",
      "layer1_0_2\n",
      "layer1_1_1\n",
      "layer1_1_2\n",
      "layer2_0_1\n",
      "layer2_0_2\n",
      "layer2_1_1\n",
      "layer2_1_2\n",
      "layer3_0_1\n",
      "layer3_0_2\n",
      "layer3_1_1\n",
      "layer3_1_2\n",
      "layer4_0_1\n",
      "layer4_0_2\n",
      "layer4_1_1\n",
      "layer4_1_2\n"
     ]
    }
   ],
   "source": [
    "layers_names = resnet18_8xb16_cifar100_Params().LAYER_NAMES\n",
    "total = []\n",
    "for layer_name in layers_names:\n",
    "    print(layer_name)\n",
    "    layer_dict = {}\n",
    "    for use in [True, False]:\n",
    "        run_name = f\"{layer_name}_best_features_{use}\"\n",
    "        run_id = run_ids[run_name]\n",
    "        run = api.run(f\"yoni-bornfeld/private_inference/{run_id}\")\n",
    "        summary = run.summary\n",
    "        last_dict = {f\"{use}_{k}\".replace(f\"{layer_name}/\", \"\"): v for k, v in summary.items()}\n",
    "        layer_dict.update(last_dict)\n",
    "    layer_dict[\"layer_name\"] = layer_name\n",
    "    total.append(layer_dict)\n",
    "\n",
    "total = pd.DataFrame(total)"
   ]
  },
  {
   "cell_type": "code",
   "execution_count": 44,
   "metadata": {},
   "outputs": [
    {
     "data": {
      "text/plain": [
       "Index(['True__runtime', 'True__step', 'True__timestamp', 'True_learning_rate',\n",
       "       'True_momentum', 'True_all_zero_ratio', 'True_batch_index',\n",
       "       'True_cluster_amount_mean', 'True_cluster_amount_sum',\n",
       "       'True_decisions_accuracy', 'True_decisions_id_accuracy',\n",
       "       'True_decisions_zero_accuracy', 'True_failed_ratio',\n",
       "       'True_id_channel_ratio', 'True_max_inter', 'True_min_inter',\n",
       "       'True_sigmoid_factor', 'True_use_sigmoid', 'True_total/all_zero_ratio',\n",
       "       'True_total/drelu_ratio', 'True_total/fail_ratio',\n",
       "       'True_total/id_channel_ratio', 'True_train/loss',\n",
       "       'True_val/accuracy_top-1', 'True_val/accuracy_top-5', 'False__runtime',\n",
       "       'False__step', 'False__timestamp', 'False_learning_rate',\n",
       "       'False_momentum', 'False_all_zero_ratio', 'False_batch_index',\n",
       "       'False_cluster_amount_mean', 'False_cluster_amount_sum',\n",
       "       'False_decisions_accuracy', 'False_decisions_id_accuracy',\n",
       "       'False_decisions_zero_accuracy', 'False_failed_ratio',\n",
       "       'False_id_channel_ratio', 'False_max_inter', 'False_min_inter',\n",
       "       'False_sigmoid_factor', 'False_use_sigmoid',\n",
       "       'False_total/all_zero_ratio', 'False_total/drelu_ratio',\n",
       "       'False_total/fail_ratio', 'False_total/id_channel_ratio',\n",
       "       'False_train/loss', 'False_val/accuracy_top-1',\n",
       "       'False_val/accuracy_top-5', 'layer_name', 'True__wandb', 'False__wandb',\n",
       "       'acc1_diff'],\n",
       "      dtype='object')"
      ]
     },
     "execution_count": 44,
     "metadata": {},
     "output_type": "execute_result"
    }
   ],
   "source": [
    "total.columns"
   ]
  },
  {
   "cell_type": "code",
   "execution_count": 46,
   "metadata": {},
   "outputs": [
    {
     "data": {
      "text/html": [
       "<div>\n",
       "<style scoped>\n",
       "    .dataframe tbody tr th:only-of-type {\n",
       "        vertical-align: middle;\n",
       "    }\n",
       "\n",
       "    .dataframe tbody tr th {\n",
       "        vertical-align: top;\n",
       "    }\n",
       "\n",
       "    .dataframe thead th {\n",
       "        text-align: right;\n",
       "    }\n",
       "</style>\n",
       "<table border=\"1\" class=\"dataframe\">\n",
       "  <thead>\n",
       "    <tr style=\"text-align: right;\">\n",
       "      <th></th>\n",
       "      <th>layer_name</th>\n",
       "      <th>acc1_diff</th>\n",
       "      <th>True_val/accuracy_top-1</th>\n",
       "      <th>False_val/accuracy_top-1</th>\n",
       "      <th>True_total/drelu_ratio</th>\n",
       "    </tr>\n",
       "  </thead>\n",
       "  <tbody>\n",
       "    <tr>\n",
       "      <th>0</th>\n",
       "      <td>stem</td>\n",
       "      <td>0.110001</td>\n",
       "      <td>77.699997</td>\n",
       "      <td>77.589996</td>\n",
       "      <td>0.014648</td>\n",
       "    </tr>\n",
       "    <tr>\n",
       "      <th>1</th>\n",
       "      <td>layer1_0_1</td>\n",
       "      <td>0.330002</td>\n",
       "      <td>77.720001</td>\n",
       "      <td>77.389999</td>\n",
       "      <td>0.028671</td>\n",
       "    </tr>\n",
       "    <tr>\n",
       "      <th>2</th>\n",
       "      <td>layer1_0_2</td>\n",
       "      <td>-0.029999</td>\n",
       "      <td>77.449997</td>\n",
       "      <td>77.479996</td>\n",
       "      <td>0.022461</td>\n",
       "    </tr>\n",
       "    <tr>\n",
       "      <th>3</th>\n",
       "      <td>layer1_1_1</td>\n",
       "      <td>-0.049995</td>\n",
       "      <td>77.389999</td>\n",
       "      <td>77.439995</td>\n",
       "      <td>0.032349</td>\n",
       "    </tr>\n",
       "    <tr>\n",
       "      <th>4</th>\n",
       "      <td>layer1_1_2</td>\n",
       "      <td>-0.040001</td>\n",
       "      <td>77.709999</td>\n",
       "      <td>77.750000</td>\n",
       "      <td>0.012573</td>\n",
       "    </tr>\n",
       "    <tr>\n",
       "      <th>5</th>\n",
       "      <td>layer2_0_1</td>\n",
       "      <td>0.590004</td>\n",
       "      <td>76.750000</td>\n",
       "      <td>76.159996</td>\n",
       "      <td>0.176910</td>\n",
       "    </tr>\n",
       "    <tr>\n",
       "      <th>6</th>\n",
       "      <td>layer2_0_2</td>\n",
       "      <td>0.050003</td>\n",
       "      <td>77.419998</td>\n",
       "      <td>77.369995</td>\n",
       "      <td>0.082581</td>\n",
       "    </tr>\n",
       "    <tr>\n",
       "      <th>7</th>\n",
       "      <td>layer2_1_1</td>\n",
       "      <td>0.139999</td>\n",
       "      <td>77.549995</td>\n",
       "      <td>77.409996</td>\n",
       "      <td>0.076172</td>\n",
       "    </tr>\n",
       "    <tr>\n",
       "      <th>8</th>\n",
       "      <td>layer2_1_2</td>\n",
       "      <td>0.519997</td>\n",
       "      <td>77.419998</td>\n",
       "      <td>76.900002</td>\n",
       "      <td>0.126007</td>\n",
       "    </tr>\n",
       "    <tr>\n",
       "      <th>9</th>\n",
       "      <td>layer3_0_1</td>\n",
       "      <td>0.590004</td>\n",
       "      <td>76.930000</td>\n",
       "      <td>76.339996</td>\n",
       "      <td>0.343689</td>\n",
       "    </tr>\n",
       "    <tr>\n",
       "      <th>10</th>\n",
       "      <td>layer3_0_2</td>\n",
       "      <td>0.119995</td>\n",
       "      <td>76.509995</td>\n",
       "      <td>76.389999</td>\n",
       "      <td>0.264282</td>\n",
       "    </tr>\n",
       "    <tr>\n",
       "      <th>11</th>\n",
       "      <td>layer3_1_1</td>\n",
       "      <td>0.150002</td>\n",
       "      <td>77.610001</td>\n",
       "      <td>77.459999</td>\n",
       "      <td>0.105774</td>\n",
       "    </tr>\n",
       "    <tr>\n",
       "      <th>12</th>\n",
       "      <td>layer3_1_2</td>\n",
       "      <td>-0.080002</td>\n",
       "      <td>76.409996</td>\n",
       "      <td>76.489998</td>\n",
       "      <td>0.304321</td>\n",
       "    </tr>\n",
       "    <tr>\n",
       "      <th>13</th>\n",
       "      <td>layer4_0_1</td>\n",
       "      <td>0.349998</td>\n",
       "      <td>77.239998</td>\n",
       "      <td>76.889999</td>\n",
       "      <td>0.583862</td>\n",
       "    </tr>\n",
       "    <tr>\n",
       "      <th>14</th>\n",
       "      <td>layer4_0_2</td>\n",
       "      <td>-0.080002</td>\n",
       "      <td>77.459999</td>\n",
       "      <td>77.540001</td>\n",
       "      <td>0.458984</td>\n",
       "    </tr>\n",
       "    <tr>\n",
       "      <th>15</th>\n",
       "      <td>layer4_1_1</td>\n",
       "      <td>0.110001</td>\n",
       "      <td>77.599998</td>\n",
       "      <td>77.489998</td>\n",
       "      <td>0.290405</td>\n",
       "    </tr>\n",
       "    <tr>\n",
       "      <th>16</th>\n",
       "      <td>layer4_1_2</td>\n",
       "      <td>-0.010002</td>\n",
       "      <td>77.739998</td>\n",
       "      <td>77.750000</td>\n",
       "      <td>0.220337</td>\n",
       "    </tr>\n",
       "  </tbody>\n",
       "</table>\n",
       "</div>"
      ],
      "text/plain": [
       "    layer_name  acc1_diff  True_val/accuracy_top-1  False_val/accuracy_top-1  \\\n",
       "0         stem   0.110001                77.699997                 77.589996   \n",
       "1   layer1_0_1   0.330002                77.720001                 77.389999   \n",
       "2   layer1_0_2  -0.029999                77.449997                 77.479996   \n",
       "3   layer1_1_1  -0.049995                77.389999                 77.439995   \n",
       "4   layer1_1_2  -0.040001                77.709999                 77.750000   \n",
       "5   layer2_0_1   0.590004                76.750000                 76.159996   \n",
       "6   layer2_0_2   0.050003                77.419998                 77.369995   \n",
       "7   layer2_1_1   0.139999                77.549995                 77.409996   \n",
       "8   layer2_1_2   0.519997                77.419998                 76.900002   \n",
       "9   layer3_0_1   0.590004                76.930000                 76.339996   \n",
       "10  layer3_0_2   0.119995                76.509995                 76.389999   \n",
       "11  layer3_1_1   0.150002                77.610001                 77.459999   \n",
       "12  layer3_1_2  -0.080002                76.409996                 76.489998   \n",
       "13  layer4_0_1   0.349998                77.239998                 76.889999   \n",
       "14  layer4_0_2  -0.080002                77.459999                 77.540001   \n",
       "15  layer4_1_1   0.110001                77.599998                 77.489998   \n",
       "16  layer4_1_2  -0.010002                77.739998                 77.750000   \n",
       "\n",
       "    True_total/drelu_ratio  \n",
       "0                 0.014648  \n",
       "1                 0.028671  \n",
       "2                 0.022461  \n",
       "3                 0.032349  \n",
       "4                 0.012573  \n",
       "5                 0.176910  \n",
       "6                 0.082581  \n",
       "7                 0.076172  \n",
       "8                 0.126007  \n",
       "9                 0.343689  \n",
       "10                0.264282  \n",
       "11                0.105774  \n",
       "12                0.304321  \n",
       "13                0.583862  \n",
       "14                0.458984  \n",
       "15                0.290405  \n",
       "16                0.220337  "
      ]
     },
     "execution_count": 46,
     "metadata": {},
     "output_type": "execute_result"
    }
   ],
   "source": [
    "total['acc1_diff'] = total[\"True_val/accuracy_top-1\"] - total[\"False_val/accuracy_top-1\"]\n",
    "total[['layer_name', 'acc1_diff', 'True_val/accuracy_top-1', 'False_val/accuracy_top-1', 'True_total/drelu_ratio']]"
   ]
  },
  {
   "cell_type": "code",
   "execution_count": 47,
   "metadata": {},
   "outputs": [
    {
     "data": {
      "text/plain": [
       "0.17000175924862132"
      ]
     },
     "execution_count": 47,
     "metadata": {},
     "output_type": "execute_result"
    }
   ],
   "source": [
    "np.mean(77.5 - total[\"True_val/accuracy_top-1\"])"
   ]
  },
  {
   "cell_type": "code",
   "execution_count": 31,
   "metadata": {},
   "outputs": [
    {
     "data": {
      "text/plain": [
       "{'_runtime': 1112.270267009735,\n",
       " '_step': 4073,\n",
       " '_timestamp': 1733002808.470412,\n",
       " 'learning_rate': 0.0004,\n",
       " 'momentum': 0.9,\n",
       " 'stem/all_zero_ratio': 0,\n",
       " 'stem/batch_index': 4073,\n",
       " 'stem/cluster_amount_mean': 96,\n",
       " 'stem/cluster_amount_sum': 960,\n",
       " 'stem/decisions_accuracy': 0.9411264038085936,\n",
       " 'stem/decisions_id_accuracy': 0.9268582929602616,\n",
       " 'stem/decisions_zero_accuracy': 0.8401338389510619,\n",
       " 'stem/failed_ratio': 0,\n",
       " 'stem/id_channel_ratio': 0.84375,\n",
       " 'stem/max_inter': 1,\n",
       " 'stem/min_inter': 1,\n",
       " 'stem/sigmoid_factor': None,\n",
       " 'stem/use_sigmoid': 0,\n",
       " 'total/all_zero_ratio': 0,\n",
       " 'total/drelu_ratio': 0.0146484375,\n",
       " 'total/fail_ratio': 0,\n",
       " 'total/id_channel_ratio': 0.84375,\n",
       " 'train/loss': 0.01527455858886242,\n",
       " 'val/accuracy_top-1': 77.69999694824219,\n",
       " 'val/accuracy_top-5': 94.1500015258789}"
      ]
     },
     "execution_count": 31,
     "metadata": {},
     "output_type": "execute_result"
    }
   ],
   "source": [
    "dict(run.summary)"
   ]
  },
  {
   "cell_type": "code",
   "execution_count": 14,
   "metadata": {},
   "outputs": [
    {
     "data": {
      "text/plain": [
       "{'layer1_0_1/min_inter': 1.0,\n",
       " '_step': 6000.0,\n",
       " 'layer1_0_1/max_inter': 1.0,\n",
       " '_runtime': 1510.88352060318,\n",
       " 'layer1_0_1/use_sigmoid': 0.0,\n",
       " '_timestamp': 1733006988.1413455,\n",
       " 'layer1_0_1/batch_index': 6000.0,\n",
       " 'momentum': 0.9,\n",
       " 'learning_rate': 0.0004,\n",
       " 'train/loss': 0.015430265478789807,\n",
       " 'layer1_0_1/cluster_amount_sum': 1867.0,\n",
       " 'layer1_0_1/id_channel_ratio': 0.625,\n",
       " 'total/fail_ratio': 0.0,\n",
       " 'total/drelu_ratio': 0.0284881591796875,\n",
       " 'layer1_0_1/decisions_zero_accuracy': 0.8190497584587462,\n",
       " 'total/all_zero_ratio': 0.0,\n",
       " 'layer1_0_1/cluster_amount_mean': 77.79166666666667,\n",
       " 'total/id_channel_ratio': 0.625,\n",
       " 'layer1_0_1/decisions_accuracy': 0.9104395548502605,\n",
       " 'layer1_0_1/all_zero_ratio': 0.0,\n",
       " 'layer1_0_1/decisions_id_accuracy': 0.8154718100154422,\n",
       " 'layer1_0_1/failed_ratio': 0.0,\n",
       " 'val/accuracy_top-1': 77.38999938964844,\n",
       " 'val/accuracy_top-5': 94.16999816894531}"
      ]
     },
     "execution_count": 14,
     "metadata": {},
     "output_type": "execute_result"
    }
   ],
   "source": [
    "dict(history.loc[history[\"_step\"].idxmax()])"
   ]
  },
  {
   "cell_type": "code",
   "execution_count": 9,
   "metadata": {},
   "outputs": [
    {
     "data": {
      "text/plain": [
       "17"
      ]
     },
     "execution_count": 9,
     "metadata": {},
     "output_type": "execute_result"
    }
   ],
   "source": [
    "len(resnet18_8xb16_cifar100_Params().LAYER_NAMES)"
   ]
  },
  {
   "cell_type": "code",
   "execution_count": null,
   "metadata": {},
   "outputs": [],
   "source": [
    "stats_dir = \"\"\n",
    "stats = {}\n",
    "for layer_name in resnet18_8xb16_cifar100_Params:\n",
    "    pass"
   ]
  }
 ],
 "metadata": {
  "kernelspec": {
   "display_name": "base",
   "language": "python",
   "name": "python3"
  },
  "language_info": {
   "codemirror_mode": {
    "name": "ipython",
    "version": 3
   },
   "file_extension": ".py",
   "mimetype": "text/x-python",
   "name": "python",
   "nbconvert_exporter": "python",
   "pygments_lexer": "ipython3",
   "version": "3.8.12"
  }
 },
 "nbformat": 4,
 "nbformat_minor": 2
}
